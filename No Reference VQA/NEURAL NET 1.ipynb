{
 "cells": [
  {
   "cell_type": "code",
   "execution_count": 1,
   "metadata": {},
   "outputs": [
    {
     "name": "stderr",
     "output_type": "stream",
     "text": [
      "Using TensorFlow backend.\n"
     ]
    }
   ],
   "source": [
    "from __future__ import absolute_import\n",
    "from __future__ import print_function\n",
    "import os\n",
    "import glob\n",
    "import random\n",
    "import numpy as np\n",
    "from keras import optimizers\n",
    "from keras.layers import LSTM\n",
    "from keras.models import Sequential, Model\n",
    "from keras.applications.vgg16 import VGG16\n",
    "from keras.layers.wrappers import TimeDistributed\n",
    "from keras.applications.mobilenet import MobileNet\n",
    "from keras.layers import Conv2D, MaxPooling2D, Dropout, Flatten, Dense, GlobalAveragePooling2D\n",
    "from keras.layers import Input, InputLayer\n",
    "from keras.layers.core import Activation, Flatten, Reshape\n",
    "from keras.layers.convolutional import Convolution2D, MaxPooling2D, UpSampling2D\n",
    "from keras.layers.normalization import BatchNormalization\n",
    "from keras.utils import np_utils\n",
    "from keras.applications import imagenet_utils\n",
    "import h5py"
   ]
  },
  {
   "cell_type": "code",
   "execution_count": 2,
   "metadata": {},
   "outputs": [],
   "source": [
    "import tensorflow as tf\n",
    "gpus = tf.config.experimental.list_physical_devices('GPU')\n",
    "for gpu in gpus:\n",
    "  tf.config.experimental.set_memory_growth(gpu, True)  # set this TensorFlow session as the default session for Keras  # set this TensorFlow session as the default session for Keras"
   ]
  },
  {
   "cell_type": "code",
   "execution_count": 3,
   "metadata": {},
   "outputs": [
    {
     "name": "stdout",
     "output_type": "stream",
     "text": [
      "['1.npy', '2.npy', '3.npy', '4.npy', '5.npy', '6.npy', '7.npy', '8.npy', '9.npy', '10.npy', '11.npy', '12.npy', '13.npy', '14.npy', '15.npy', '16.npy', '17.npy', '18.npy', '19.npy', '20.npy', '21.npy', '22.npy', '23.npy', '24.npy', '25.npy', '26.npy', '27.npy', '28.npy', '29.npy', '30.npy', '31.npy', '32.npy', '33.npy', '34.npy', '35.npy', '36.npy', '37.npy', '38.npy', '39.npy', '40.npy', '41.npy', '42.npy', '43.npy', '44.npy', '45.npy', '46.npy', '47.npy', '48.npy', '49.npy', '50.npy', '51.npy', '52.npy', '53.npy', '54.npy', '55.npy', '56.npy', '57.npy', '58.npy', '59.npy', '60.npy', '61.npy', '62.npy', '63.npy', '64.npy', '65.npy', '66.npy', '67.npy', '68.npy', '69.npy', '70.npy', '71.npy', '72.npy', '73.npy', '74.npy', '75.npy', '76.npy', '77.npy', '78.npy', '79.npy', '80.npy', '81.npy', '82.npy', '83.npy', '84.npy', '85.npy', '86.npy', '87.npy', '88.npy', '89.npy', '90.npy', '91.npy', '92.npy', '93.npy', '94.npy', '95.npy', '96.npy', '97.npy', '98.npy', '99.npy', '100.npy', '101.npy', '102.npy', '103.npy', '104.npy', '105.npy', '106.npy', '107.npy', '108.npy', '109.npy', '110.npy', '111.npy', '112.npy', '113.npy', '114.npy', '115.npy', '116.npy', '117.npy', '118.npy', '119.npy', '120.npy', '121.npy', '122.npy', '123.npy', '124.npy', '125.npy', '126.npy', '127.npy', '128.npy', '129.npy', '130.npy', '131.npy', '132.npy', '133.npy', '134.npy', '135.npy', '136.npy', '137.npy', '138.npy', '139.npy', '140.npy', '141.npy', '142.npy', '143.npy', '144.npy', '145.npy', '146.npy', '147.npy', '148.npy', '149.npy', '150.npy', '151.npy', '152.npy', '153.npy', '154.npy', '155.npy', '156.npy', '157.npy', '158.npy', '159.npy', '160.npy', '161.npy', '162.npy', '163.npy', '164.npy', '165.npy', '166.npy', '167.npy', '168.npy', '169.npy', '170.npy', '171.npy', '172.npy', '173.npy', '174.npy', '175.npy', '176.npy', '177.npy', '178.npy', '179.npy', '180.npy', '181.npy', '182.npy', '183.npy', '184.npy', '185.npy', '186.npy', '187.npy', '188.npy', '189.npy', '190.npy', '191.npy', '192.npy', '193.npy', '194.npy', '195.npy', '196.npy', '197.npy', '198.npy', '199.npy', '200.npy', '201.npy', '202.npy', '203.npy', '204.npy', '205.npy', '206.npy', '207.npy', '208.npy', '209.npy', '210.npy', '211.npy', '212.npy', '213.npy', '214.npy', '215.npy', '216.npy', '217.npy', '218.npy', '219.npy', '220.npy', '221.npy', '222.npy', '223.npy', '224.npy', '225.npy', '226.npy', '227.npy', '228.npy', '229.npy', '230.npy', '231.npy', '232.npy', '233.npy', '234.npy', '235.npy', '236.npy', '237.npy', '238.npy', '239.npy', '240.npy', '241.npy', '242.npy', '243.npy', '244.npy', '245.npy', '246.npy', '247.npy', '248.npy', '249.npy', '250.npy', '251.npy', '252.npy', '253.npy', '254.npy', '255.npy', '256.npy', '257.npy', '258.npy', '259.npy', '260.npy', '261.npy', '262.npy', '263.npy', '264.npy', '265.npy', '266.npy', '267.npy', '268.npy', '269.npy', '270.npy', '271.npy', '272.npy', '273.npy', '274.npy', '275.npy', '276.npy', '277.npy', '278.npy', '279.npy', '280.npy', '281.npy', '282.npy', '283.npy', '284.npy', '285.npy', '286.npy', '287.npy', '288.npy', '289.npy', '290.npy', '291.npy', '292.npy', '293.npy', '294.npy', '295.npy', '296.npy', '297.npy', '298.npy', '299.npy', '300.npy', '301.npy', '302.npy', '303.npy', '304.npy', '305.npy', '306.npy', '307.npy', '308.npy', '309.npy', '310.npy', '311.npy', '312.npy', '313.npy', '314.npy', '315.npy', '316.npy', '317.npy', '318.npy', '319.npy', '320.npy', '321.npy', '322.npy', '323.npy', '324.npy', '325.npy', '326.npy', '327.npy', '328.npy', '329.npy', '330.npy', '331.npy', '332.npy', '333.npy', '334.npy', '335.npy', '336.npy', '337.npy', '338.npy', '339.npy', '340.npy', '341.npy', '342.npy', '343.npy', '344.npy', '345.npy', '346.npy', '347.npy', '348.npy', '349.npy', '350.npy', '351.npy', '352.npy', '353.npy', '354.npy', '355.npy', '356.npy', '357.npy', '358.npy', '359.npy', '360.npy', '361.npy', '362.npy', '363.npy', '364.npy', '365.npy', '366.npy', '367.npy', '368.npy', '369.npy', '370.npy', '371.npy', '372.npy', '373.npy', '374.npy', '375.npy', '376.npy', '377.npy', '378.npy', '379.npy', '380.npy', '381.npy', '382.npy', '383.npy', '384.npy', '385.npy', '386.npy', '387.npy', '388.npy', '389.npy', '390.npy', '391.npy', '392.npy', '393.npy', '394.npy', '395.npy', '396.npy', '397.npy', '398.npy', '399.npy', '400.npy', '401.npy', '402.npy', '403.npy', '404.npy', '405.npy', '406.npy', '407.npy', '408.npy', '409.npy', '410.npy', '411.npy', '412.npy', '413.npy', '414.npy', '415.npy', '416.npy', '417.npy', '418.npy', '419.npy', '420.npy', '421.npy', '422.npy', '423.npy', '424.npy', '425.npy', '426.npy', '427.npy', '428.npy', '429.npy', '430.npy', '431.npy', '432.npy', '433.npy', '434.npy', '435.npy', '436.npy', '437.npy', '438.npy', '439.npy', '440.npy', '441.npy', '442.npy', '443.npy', '444.npy', '445.npy', '446.npy', '447.npy', '448.npy', '449.npy', '450.npy', '451.npy', '452.npy', '453.npy', '454.npy', '455.npy', '456.npy', '457.npy', '458.npy', '459.npy', '460.npy', '461.npy', '462.npy', '463.npy', '464.npy', '465.npy', '466.npy', '467.npy', '468.npy', '469.npy', '470.npy', '471.npy', '472.npy', '473.npy', '474.npy', '475.npy', '476.npy', '477.npy', '478.npy', '479.npy', '480.npy', '481.npy', '482.npy', '483.npy', '484.npy', '485.npy', '486.npy', '487.npy', '488.npy', '489.npy', '490.npy', '491.npy', '492.npy', '493.npy', '494.npy', '495.npy', '496.npy', '497.npy', '498.npy', '499.npy', '500.npy', '501.npy', '502.npy', '503.npy', '504.npy', '505.npy', '506.npy', '507.npy', '508.npy', '509.npy', '510.npy', '511.npy', '512.npy', '513.npy', '514.npy', '515.npy', '516.npy', '517.npy', '518.npy', '519.npy', '520.npy', '521.npy', '522.npy', '523.npy', '524.npy', '525.npy', '526.npy', '527.npy', '528.npy', '529.npy', '530.npy', '531.npy', '532.npy', '533.npy', '534.npy', '535.npy', '536.npy', '537.npy', '538.npy', '539.npy', '540.npy', '541.npy', '542.npy', '543.npy', '544.npy', '545.npy', '546.npy', '547.npy', '548.npy', '549.npy', '550.npy', '551.npy', '552.npy', '553.npy', '554.npy', '555.npy', '556.npy', '557.npy', '558.npy', '559.npy', '560.npy', '561.npy', '562.npy', '563.npy', '564.npy', '565.npy', '566.npy', '567.npy', '568.npy', '569.npy', '570.npy', '571.npy', '572.npy', '573.npy', '574.npy', '575.npy', '576.npy', '577.npy', '578.npy', '579.npy', '580.npy', '581.npy', '582.npy', '583.npy', '584.npy', '585.npy', '586.npy', '587.npy', '588.npy', '589.npy', '590.npy', '591.npy', '592.npy', '593.npy', '594.npy', '595.npy', '596.npy', '597.npy', '598.npy', '599.npy', '600.npy', '601.npy', '602.npy', '603.npy', '604.npy', '605.npy', '606.npy', '607.npy', '608.npy', '609.npy', '610.npy', '611.npy', '612.npy', '613.npy', '614.npy', '615.npy', '616.npy', '617.npy', '618.npy', '619.npy', '620.npy', '621.npy', '622.npy', '623.npy', '624.npy', '625.npy', '626.npy', '627.npy', '628.npy', '629.npy', '630.npy', '631.npy', '632.npy', '633.npy', '634.npy', '635.npy', '636.npy', '637.npy', '638.npy', '639.npy', '640.npy', '641.npy', '642.npy', '643.npy', '644.npy', '645.npy', '646.npy', '647.npy', '648.npy', '649.npy', '650.npy', '651.npy', '652.npy', '653.npy', '654.npy', '655.npy', '656.npy', '657.npy', '658.npy', '659.npy', '660.npy', '661.npy', '662.npy', '663.npy', '664.npy', '665.npy', '666.npy', '667.npy', '668.npy', '669.npy', '670.npy', '671.npy', '672.npy', '673.npy', '674.npy', '675.npy', '676.npy', '677.npy', '678.npy', '679.npy', '680.npy', '681.npy', '682.npy', '683.npy', '684.npy', '685.npy', '686.npy', '687.npy', '688.npy', '689.npy', '690.npy', '691.npy', '692.npy', '693.npy', '694.npy', '695.npy', '696.npy', '697.npy', '698.npy', '699.npy', '700.npy', '701.npy', '702.npy', '703.npy', '704.npy', '705.npy', '706.npy', '707.npy', '708.npy', '709.npy', '710.npy', '711.npy', '712.npy', '713.npy', '714.npy', '715.npy', '716.npy', '717.npy', '718.npy', '719.npy', '720.npy', '721.npy', '722.npy', '723.npy', '724.npy', '725.npy', '726.npy', '727.npy', '728.npy', '729.npy', '730.npy', '731.npy', '732.npy', '733.npy', '734.npy', '735.npy', '736.npy', '737.npy', '738.npy', '739.npy', '740.npy', '741.npy', '742.npy', '743.npy', '744.npy', '745.npy', '746.npy', '747.npy', '748.npy', '749.npy', '750.npy', '751.npy', '752.npy', '753.npy', '754.npy', '755.npy', '756.npy', '757.npy', '758.npy', '759.npy', '760.npy', '761.npy', '762.npy', '763.npy', '764.npy', '765.npy', '766.npy', '767.npy', '768.npy', '769.npy', '770.npy', '771.npy', '772.npy', '773.npy', '774.npy', '775.npy', '776.npy', '777.npy', '778.npy', '779.npy', '780.npy', '781.npy', '782.npy', '783.npy', '784.npy', '785.npy', '786.npy', '787.npy', '788.npy', '789.npy', '790.npy', '791.npy', '792.npy', '793.npy', '794.npy', '795.npy', '796.npy', '797.npy', '798.npy', '799.npy', '800.npy']\n"
     ]
    }
   ],
   "source": [
    "os.chdir(r'D:\\ffmpeg\\directorios\\experiments\\npimages')\n",
    "files = glob.glob(r'*[0-9].npy')\n",
    "files.sort(key = len)\n",
    "print(files)\n",
    "scorefiles = [i for i in files if 'score' in i]\n",
    "videofiles = [i for i in files if 'score' not in i]"
   ]
  },
  {
   "cell_type": "code",
   "execution_count": 4,
   "metadata": {},
   "outputs": [
    {
     "name": "stdout",
     "output_type": "stream",
     "text": [
      "(2, 50, 240, 320, 3) (2, 5)\n",
      "xtrain shape: (2, 50, 240, 320, 3)\n",
      "ytrain shape: (2, 5)\n"
     ]
    }
   ],
   "source": [
    "def myGenerator():\n",
    "    while True:\n",
    "        ls = random.sample(range(1, 800), 2)\n",
    "        alldata_x = []\n",
    "        alldata_y = []\n",
    "        for i in ls:\n",
    "            f = files[i]\n",
    "            s = f[:-4]+'_score.npy'\n",
    "            #print(f,s)\n",
    "            a = np.load(f)\n",
    "            b = np.load(s)\n",
    "            alldata_x.append(a)\n",
    "            alldata_y.append(b)\n",
    "            #print(alldata_x)\n",
    "            #print(alldata_y)\n",
    "        alldata_x = np.array(alldata_x)\n",
    "        alldata_y = np.array(alldata_y)\n",
    "        print(alldata_x.shape, alldata_y.shape)\n",
    "        yield alldata_x, alldata_y\n",
    "x = myGenerator()\n",
    "xtrain, ytrain = next(x)\n",
    "print('xtrain shape:',xtrain.shape)\n",
    "print('ytrain shape:',ytrain.shape)"
   ]
  },
  {
   "cell_type": "code",
   "execution_count": 5,
   "metadata": {},
   "outputs": [
    {
     "name": "stdout",
     "output_type": "stream",
     "text": [
      "800\n",
      "(50, 240, 320, 3)\n"
     ]
    }
   ],
   "source": [
    "print(len(videofiles))\n",
    "for f in videofiles:\n",
    "    print(np.load(f).shape)\n",
    "    break"
   ]
  },
  {
   "cell_type": "code",
   "execution_count": 19,
   "metadata": {},
   "outputs": [],
   "source": [
    "height = 240\n",
    "width = 320\n",
    "input_shape=(10, height, width, 3)"
   ]
  },
  {
   "cell_type": "code",
   "execution_count": 28,
   "metadata": {},
   "outputs": [
    {
     "name": "stdout",
     "output_type": "stream",
     "text": [
      "Model: \"sequential_13\"\n",
      "_________________________________________________________________\n",
      "Layer (type)                 Output Shape              Param #   \n",
      "=================================================================\n",
      "time_distributed_17 (TimeDis (None, 2, 512)            14714688  \n",
      "_________________________________________________________________\n",
      "time_distributed_18 (TimeDis (None, 2, 512)            0         \n",
      "_________________________________________________________________\n",
      "lstm_8 (LSTM)                (None, 512)               2099200   \n",
      "_________________________________________________________________\n",
      "dense_15 (Dense)             (None, 100)               51300     \n",
      "_________________________________________________________________\n",
      "dense_16 (Dense)             (None, 5)                 505       \n",
      "=================================================================\n",
      "Total params: 16,865,693\n",
      "Trainable params: 16,865,693\n",
      "Non-trainable params: 0\n",
      "_________________________________________________________________\n",
      "None\n"
     ]
    },
    {
     "data": {
      "text/plain": [
       "<keras.engine.sequential.Sequential at 0x14a4a734888>"
      ]
     },
     "execution_count": 28,
     "metadata": {},
     "output_type": "execute_result"
    }
   ],
   "source": [
    "def mySegNet(input_shape):\n",
    "    base_model  = VGG16(input_shape=(224,224,3), include_top=False)\n",
    "    x = base_model.output\n",
    "    x = GlobalAveragePooling2D()(x)\n",
    "    cnn_model = Model(inputs=base_model.input, outputs=x)\n",
    "    \n",
    "    model = Sequential();\n",
    "    model.add(TimeDistributed(cnn_model, input_shape=input_shape))\n",
    "    model.add(TimeDistributed(Flatten()))\n",
    "    \n",
    "    model.add(LSTM(512, return_sequences=False))\n",
    "    model.add(Dense(100, activation='relu'))\n",
    "    model.add(Dense(5, activation='softmax'))\n",
    "    model.compile(optimizer = optimizers.Adam(lr=0.0001), loss='categorical_crossentropy')\n",
    "    print(model.summary())\n",
    "    return model \n",
    "mySegNet(input_shape)"
   ]
  },
  {
   "cell_type": "code",
   "execution_count": null,
   "metadata": {},
   "outputs": [],
   "source": [
    "def mySegNet(input_shape):\n",
    "    base_model  = MobileNet(input_shape=(224,224,3), include_top=False)\n",
    "    x = base_model.output\n",
    "    x = GlobalAveragePooling2D()(x)\n",
    "    cnn_model = Model(inputs=base_model.input, outputs=x)\n",
    "    \n",
    "    model = Sequential();\n",
    "    model.add(TimeDistributed(cnn_model, input_shape=input_shape))\n",
    "    model.add(TimeDistributed(Flatten()))\n",
    "    \n",
    "    model.add(LSTM(512, return_sequences=False))\n",
    "    model.add(Dense(100, activation='relu'))\n",
    "    model.add(Dense(5, activation='softmax'))\n",
    "    model.compile(optimizer = optimizers.Adam(lr=0.00001), loss='categorical_crossentropy')\n",
    "    print(model.summary())\n",
    "    return model \n",
    "mySegNet(input_shape)"
   ]
  },
  {
   "cell_type": "code",
   "execution_count": null,
   "metadata": {},
   "outputs": [],
   "source": [
    "m = mySegNet(input_shape)\n",
    "m.layers.pop()\n",
    "m.outputs = [m.layers[-1].output]\n",
    "m.layers[-1].outbound_nodes = []\n",
    "print(m.summary())"
   ]
  },
  {
   "cell_type": "code",
   "execution_count": null,
   "metadata": {},
   "outputs": [],
   "source": [
    "model = mySegNet(input_shape)\n",
    "model.fit_generator(generator=myGenerator(),\n",
    "                    use_multiprocessing=False,\n",
    "                   steps_per_epoch=20, epochs=20)\n",
    "path = 'D:/ffmpeg/directorios/experiments/'\n",
    "model.save(path+'model1.h5')\n",
    "model.save_weights(path+'model_weights1.h5')"
   ]
  },
  {
   "cell_type": "code",
   "execution_count": null,
   "metadata": {},
   "outputs": [],
   "source": [
    "model = mySegNet(input_shape)\n",
    "model.fit_generator(generator=myGenerator(),\n",
    "                    use_multiprocessing=False,\n",
    "                   steps_per_epoch=1, epochs=1)\n",
    "path = 'D:/ffmpeg/directorios/experiments/'\n",
    "model.save(path+'model1.h5')\n",
    "model.save_weights(path+'model_weights1.h5')"
   ]
  },
  {
   "cell_type": "code",
   "execution_count": null,
   "metadata": {},
   "outputs": [],
   "source": []
  }
 ],
 "metadata": {
  "kernelspec": {
   "display_name": "Python 3",
   "language": "python",
   "name": "python3"
  },
  "language_info": {
   "codemirror_mode": {
    "name": "ipython",
    "version": 3
   },
   "file_extension": ".py",
   "mimetype": "text/x-python",
   "name": "python",
   "nbconvert_exporter": "python",
   "pygments_lexer": "ipython3",
   "version": "3.7.10"
  }
 },
 "nbformat": 4,
 "nbformat_minor": 4
}
